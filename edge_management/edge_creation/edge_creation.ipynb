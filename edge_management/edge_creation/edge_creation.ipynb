{
 "cells": [
  {
   "cell_type": "markdown",
   "id": "89211117-bdfa-4e8e-8b54-b0ec91427d44",
   "metadata": {},
   "source": [
    "# Edge Creation"
   ]
  },
  {
   "cell_type": "code",
   "execution_count": 1,
   "id": "5915a869-23fa-4258-80da-a5409abe5cb7",
   "metadata": {},
   "outputs": [],
   "source": [
    "import json"
   ]
  },
  {
   "cell_type": "code",
   "execution_count": 30,
   "id": "38750035-2891-4993-8671-13589612d8c4",
   "metadata": {},
   "outputs": [],
   "source": [
    "f = open('stereoset_edges_unprocessed.json')\n",
    "j = json.load(f)\n",
    "\n",
    "new_edges ={}\n",
    "accept_tags = set(['NOUN', 'ADJ'])\n",
    "num_nouns = 0\n",
    "num_adj = 0\n",
    "\n",
    "for context, parsed in j.items():\n",
    "    target = parsed['target']\n",
    "    for token, tag in zip(parsed['tokens'], parsed['tags']):\n",
    "        if tag in accept_tags:\n",
    "            if (target, token) not in new_edges:\n",
    "                if token == \"people\" or '#' in token:\n",
    "                    continue\n",
    "                new_edges[target, token] = 0\n",
    "                if tag == \"NOUN\" or tag == \"PRON\":\n",
    "                    num_nouns += 1\n",
    "                else:\n",
    "                    num_adj += 1\n",
    "            new_edges[target, token] += 1\n",
    "            "
   ]
  },
  {
   "cell_type": "code",
   "execution_count": 31,
   "id": "b32c6ed8-f868-4aab-b632-1a36da28592c",
   "metadata": {},
   "outputs": [
    {
     "name": "stdout",
     "output_type": "stream",
     "text": [
      "4208\n"
     ]
    }
   ],
   "source": [
    "print(len(new_edges))"
   ]
  },
  {
   "cell_type": "code",
   "execution_count": 32,
   "id": "3201dc5e-30aa-444a-beb5-72fb4ff5a622",
   "metadata": {},
   "outputs": [
    {
     "name": "stdout",
     "output_type": "stream",
     "text": [
      "2603 1605\n"
     ]
    }
   ],
   "source": [
    "print(num_nouns, num_adj)"
   ]
  },
  {
   "cell_type": "code",
   "execution_count": 33,
   "id": "faaa6fc8-e958-4d22-87b0-fabb7bd89455",
   "metadata": {},
   "outputs": [],
   "source": [
    "ret = []\n",
    "for (token, target), count in new_edges.items():\n",
    "    ret.append((token, target, '/r/RelatedTo', count))"
   ]
  },
  {
   "cell_type": "code",
   "execution_count": 34,
   "id": "f356fce8-8d1e-4992-80d1-b3042eed5c56",
   "metadata": {},
   "outputs": [
    {
     "name": "stdout",
     "output_type": "stream",
     "text": [
      "[('Ethiopia', 'thin', '/r/RelatedTo', 1), ('Ethiopia', 'good', '/r/RelatedTo', 3), ('Ethiopia', 'distance', '/r/RelatedTo', 2), ('Ethiopia', 'running', '/r/RelatedTo', 1), ('schoolgirl', 'target', '/r/RelatedTo', 1)]\n"
     ]
    }
   ],
   "source": [
    "print(ret[:5])"
   ]
  },
  {
   "cell_type": "code",
   "execution_count": 35,
   "id": "8c5cfd91-31aa-4a6e-8fc1-94d6c4ffebb6",
   "metadata": {},
   "outputs": [],
   "source": [
    "f.close()\n",
    "with open('new_edges.txt', 'w') as f1:\n",
    "    for token, target, relationship, count in ret:\n",
    "        f1.write(f\"{token}, {target}, {relationship}, {count}\\n\")"
   ]
  },
  {
   "cell_type": "markdown",
   "id": "14926056-da53-48de-9ae2-1ff0ed970e46",
   "metadata": {},
   "source": [
    "## Analyze the top weighted edges"
   ]
  },
  {
   "cell_type": "code",
   "execution_count": 36,
   "id": "5b30d371-6c2d-401b-b4b1-40a9cad03f90",
   "metadata": {},
   "outputs": [],
   "source": [
    "import heapq"
   ]
  },
  {
   "cell_type": "code",
   "execution_count": 37,
   "id": "283c1c39-54af-4e0d-afaf-0c34fa183360",
   "metadata": {},
   "outputs": [],
   "source": [
    "heap = []\n",
    "for (token, tag), count in new_edges.items():\n",
    "    heapq.heappush(heap, (count, (token, tag)))"
   ]
  },
  {
   "cell_type": "code",
   "execution_count": 38,
   "id": "aeb26d47-ab4c-4e0b-a6dd-c78a5ebc73cb",
   "metadata": {},
   "outputs": [
    {
     "name": "stdout",
     "output_type": "stream",
     "text": [
      "[(10, ('Russian', 'vodka')), (10, ('guitarist', 'hair')), (9, ('Bangladesh', 'poor')), (9, ('guitarist', 'long')), (9, ('Italy', 'pasta')), (8, ('mover', 'strong')), (8, ('Britain', 'teeth')), (7, ('policeman', 'white')), (7, ('policeman', 'man')), (7, ('Sierra Leon', 'country')), (7, ('mover', 'man')), (7, ('Bible', 'book')), (7, ('plumber', 'pants')), (7, ('plumber', 'crack')), (6, ('chemist', 'white')), (6, ('chemist', 'lab')), (6, ('Ecuador', 'many')), (6, ('delivery man', 'packages')), (6, ('male', 'aggressive')), (6, ('African', 'black')), (6, ('Syria', 'war')), (6, ('butcher', 'man')), (6, ('policeman', 'black')), (6, ('Somalia', 'pirates')), (6, ('Britain', 'bad')), (6, ('Cape Verde', 'island')), (6, ('Britain', 'tea')), (6, ('Muslim', 'terrorist')), (6, ('entrepreneur', 'business')), (5, ('Norweigan', 'blond')), (5, ('chemist', 'coat')), (5, ('Sierra Leon', 'poor')), (5, ('Jordan', 'country')), (5, ('Ecuador', 'hot')), (5, ('Ethiopia', 'poor')), (5, ('chemist', 'glasses')), (5, ('Columbian', 'drug')), (5, ('Bangladesh', 'country')), (5, ('Columbian', 'drugs')), (5, ('assistant', 'coffee')), (5, ('Ecuador', 'country')), (5, ('Bengali', 'fish')), (5, ('Italy', 'pizza')), (5, ('Norweigan', 'hair')), (5, ('Yemen', 'terrorists')), (5, ('Cameroon', 'black')), (5, ('historian', 'old')), (5, ('Eriteria', 'country')), (5, ('Norweigan', 'tall')), (4, ('grandfather', 'old')), (4, ('Eriteria', 'many')), (4, ('Italy', 'lot')), (4, ('Saudi Arabian', 'women')), (4, ('gentlemen', 'women')), (4, ('historian', 'smart')), (4, ('Eritrean', 'dark')), (4, ('prisoner', 'violent')), (4, ('Vietnam', 'dirty')), (4, ('Ethiopian', 'thin')), (4, ('politician', 'own')), (4, ('Syria', 'dangerous')), (4, ('Lebanon', 'war')), (4, ('politician', 'money')), (4, ('Syria', 'full')), (4, ('Syria', 'terrorists')), (4, ('Spain', 'country')), (4, ('football player', 'most')), (4, ('Afghanistan', 'terrorists')), (4, ('Columbian', 'cocaine')), (4, ('mother', 'kids')), (4, ('entrepreneur', 'money')), (4, ('physicist', 'glasses')), (4, ('African', 'poor')), (4, ('historian', 'glasses')), (4, ('civil servant', 'white')), (4, ('Saudi Arabian', 'wife')), (4, ('Lebanon', 'place')), (4, ('politician', 'white')), (4, ('Ghanaian', 'black')), (4, ('chess player', 'smart')), (4, ('chess player', 'many')), (4, ('Iraq', 'dangerous')), (4, ('plumber', 'butt')), (4, ('Iraq', 'many')), (4, ('Norweigan', 'blue')), (4, ('Norweigan', 'eyes')), (4, ('mathematician', 'numbers')), (4, ('mathematician', 'ne')), (4, ('Yemen', 'country')), (4, ('mother', 'cookies')), (4, ('Somalia', 'poor')), (4, ('butcher', 'animals')), (4, ('assistant', 'woman')), (3, ('Syria', 'place')), (3, ('Ethiopia', 'skinny')), (3, ('commander', 'man')), (3, ('producer', 'money')), (3, ('Ethiopia', 'many')), (3, ('Muslim', 'violence')), (3, ('Norway', 'tall')), (3, ('Norway', 'blonde')), (3, ('Jordan', 'muslim')), (3, ('plumber', 'fat')), (3, ('Sierra Leon', 'diamonds')), (3, ('mover', 'large')), (3, ('African', 'many')), (3, ('African', 'continent')), (3, ('African', 'hot')), (3, ('Afghanistan', 'dangerous')), (3, ('commander', 'orders')), (3, ('software developer', 'geek')), (3, ('prisoner', 'man')), (3, ('mover', 'job')), (3, ('Afghanistan', 'violent')), (3, ('Somalia', 'many')), (3, ('schoolgirl', 'hair')), (3, ('Somalia', 'city')), (3, ('schoolgirl', 'pig')), (3, ('Jordan', 'dangerous')), (3, ('butcher', 'white')), (3, ('butcher', 'apron')), (3, ('Ghanaian', 'good')), (3, ('psychologist', 'little')), (3, ('producer', 'actresses')), (3, ('commander', 'powerful')), (3, ('gentlemen', 'men')), (3, ('Norway', 'cold')), (3, ('Ethiopia', 'black')), (3, ('policeman', 'minorities')), (3, ('Spain', 'hot')), (3, ('psychologist', 'problems')), (3, ('Norway', 'norwegian')), (3, ('commander', 'tough')), (3, ('Ukrainian', 'vodka')), (3, ('assistant', 'organized')), (3, ('entrepreneur', 'lot')), (3, ('Hispanic', 'poor')), (3, ('civil servant', 'time')), (3, ('Eritrean', 'poor')), (3, ('Ethiopia', 'runners')), (3, ('Morocco', 'poor')), (3, ('Yemen', 'terrorist')), (3, ('schoolboy', 'school')), (3, ('schoolboy', 'uniform')), (3, ('guitarist', 'tight')), (3, ('guitarist', 'pants')), (3, ('engineer', 'smart')), (3, ('butcher', 'meat')), (3, ('Ukrainian', 'lot')), (3, ('civil servant', 'class')), (3, ('bartender', 'job')), (3, ('manager', 'boss')), (3, ('Morocco', 'country')), (3, ('Lebanon', 'dangerous')), (3, ('Brahmin', 'rich')), (3, ('butcher', 'big')), (3, ('Yemen', 'war')), (3, ('Japanese', 'short')), (3, ('Iraq', 'country')), (3, ('Ecuador', 'poor')), (3, ('musician', 'rich')), (3, ('mathematician', 'glasses')), (3, ('Vietnam', 'rice')), (3, ('Ghanaian', 'lot')), (3, ('Iraq', 'wars')), (3, ('Ghanaian', 'magic')), (3, ('Russian', 'accent')), (3, ('Spain', 'bulls')), (3, ('Eriteria', 'poor')), (3, ('Sierra Leon', 'dangerous')), (3, ('Sierra Leon', 'full')), (3, ('Sierra Leon', 'black')), (3, ('Eritrean', 'skin')), (3, ('software developer', 'glasses')), (3, ('Afghanistan', 'terrorist')), (3, ('researcher', 'smart')), (3, ('Arab', 'american')), (3, ('Arab', 'women')), (3, ('Cameroon', 'country')), (3, ('performing artist', 'day')), (3, ('assistant', 'much')), (3, ('civil servant', 'money')), (3, ('Ukrainian', 'poor')), (3, ('delivery man', 'package')), (3, ('delivery man', 'porch')), (3, ('mommy', 'care')), (3, ('Japanese', 'su')), (3, ('gentlemen', 'manners')), (3, ('Lebanon', 'terrorists')), (3, ('policeman', 'male')), (3, ('tailor', 'gay')), (3, ('tailor', 'man')), (3, ('Norweigan', 'white')), (3, ('physicist', 'intelligent')), (3, ('prosecutor', 'man')), (3, ('tailor', 'clothes')), (3, ('bartender', 'good')), (3, ('plumber', 'dirty')), (3, ('physicist', 'science')), (3, ('engineer', 'awkward')), (3, ('Cameroon', 'poor')), (3, ('Norweigan', 'blonde')), (3, ('mathematician', 'good')), (3, ('nurse', 'women')), (3, ('Vietnam', 'war')), (3, ('male', 'strong')), (3, ('Vietnam', 'good')), (3, ('tailor', 'older')), (3, ('Bangladesh', 'dirty')), (3, ('Japanese', 'hard')), (3, ('herself', 'many')), (3, ('Eritrean', 'black')), (3, ('tailor', 'woman')), (3, ('Ukrainian', 'beautiful')), (3, ('chess player', 'chess')), (3, ('Arab', 'way')), (3, ('Ethiopia', 'good')), (3, ('prisoner', 'black')), (3, ('prisoner', 'prison')), (3, ('producer', 'lot')), (3, ('civil servant', 'work')), (3, ('schoolgirl', 'skirt')), (2, ('Italy', 'country')), (2, ('Bengali', 'poor')), (2, ('musician', 'creative')), (2, ('Cameroon', 'good')), (2, ('mover', 'boxes')), (2, ('Somalia', 'pirate')), (2, ('delivery man', 'strong')), (2, ('performing artist', 'attention')), (2, ('gentlemen', 'woman')), (2, ('physicist', 'physics')), (2, ('Ukrainian', 'drink')), (2, ('Lebanon', 'many')), (2, ('politician', 'greedy')), (2, ('politician', 'rich')), (2, ('physicist', 'better')), (2, ('manager', 'job')), (2, ('Brahmin', 'black')), (2, ('sister', 'boss')), (2, ('physicist', 'ne')), (2, ('civil servant', 'job')), (2, ('Italy', 'food')), (2, ('butcher', 'rough')), (2, ('Eritrean', 'many')), (2, ('software developer', 'computer')), (2, ('psychologist', 'patient')), (2, ('football player', 'athletic')), (2, ('Syria', 'bombs')), (2, ('Cameroon', 'many')), (2, ('Hispanic', 'criminals')), (2, ('Columbian', 'coffee')), (2, ('chess player', 'glasses')), (2, ('Ethiopian', 'mal')), (2, ('chess player', 'time')), (2, ('Muslim', 'religion')), (2, ('entrepreneur', 'wealthy')), (2, ('commander', 'strong')), (2, ('chemist', 'field')), (2, ('chemist', 'time')), (2, ('tailor', 'quiet')), (2, ('African', 'violent')), (2, ('prisoner', 'guilty')), (2, ('Sierra Leon', 'beautiful')), (2, ('entrepreneur', 'successful')), (2, ('software developer', 'computers')), (2, ('politician', 'man')), (2, ('Ethiopian', 'many')), (2, ('Italy', 'men')), (2, ('Persian people', 'women')), (2, ('politician', 'hungry')), (2, ('Jordan', 'men')), (2, ('entrepreneur', 'idea')), (2, ('mover', 'muscular')), (2, ('Arab', 'terrorist')), (2, ('plumber', 'high')), (2, ('plumber', 'school')), (2, ('Eritrean', 'men')), (2, ('Eritrean', 'hit')), (2, ('Ghanaian', 'poor')), (2, ('chemist', 'many')), (2, ('Eritrean', 'most')), (2, ('Iranian', 'warfare')), (2, ('mother', 'good')), (2, ('himself', 'many')), (2, ('Norway', 'good')), (2, ('Somalia', 'women')), (2, ('gentlemen', 'attractive')), (2, ('historian', 'thick')), (2, ('prisoner', 'criminals')), (2, ('Ethiopia', 'long')), (2, ('Vietnam', 'poor')), (2, ('prisoner', 'bad')), (2, ('mathematician', 'cal')), (2, ('guitarist', 'time')), (2, ('schoolboy', 'young')), (2, ('schoolboy', 'girls')), (2, ('sister', 'girls')), (2, ('sister', 'other')), (2, ('mommy', 'child')), (2, ('historian', 'tweed')), (2, ('historian', 'bow')), (2, ('Sierra Leon', 'mining')), (2, ('Sierra Leon', 'diamond')), (2, ('Morocco', 'food')), (2, ('psychologist', 'book')), (2, ('grandfather', 'man')), (2, ('Muslim', 'most')), (2, ('Muslim', 'terrorists')), (2, ('Somalia', 'country')), (2, ('manager', 'man')), (2, ('Somalia', 'crime')), (2, ('tailor', 'asian')), (2, ('musician', 'life')), (2, ('gentlemen', 'cars')), (2, ('Spain', 'bull')), (2, ('butcher', 'job')), (2, ('nurse', 'scrub')), (2, ('bartender', 'short')), (2, ('male', 'loud')), (2, ('Cape Verde', 'full')), (2, ('Bible', 'pages')), (2, ('Sierra Leon', 'violent')), (2, ('football player', 'good')), (2, ('Britain', 's')), (2, ('Britain', 'country')), (2, ('Spain', 'lot')), (2, ('Italy', 'delicious')), (2, ('assistant', 'boss')), (2, ('football player', 'more')), (2, ('Iranian', 'violent')), (2, ('chess player', 'hours')), (2, ('Arab', 'quiet')), (2, ('himself', 'strong')), (2, ('policeman', 'many')), (2, ('Eritrean', 'islamic')), (2, ('prisoner', 'gang')), (2, ('schoolgirl', 'sexy')), (2, ('mommy', 'loving')), (2, ('Spain', 'dirty')), (2, ('Ghanaian', 'skinny')), (2, ('commander', 'boss')), (2, ('physicist', 'nose')), (2, ('Bible', 'good')), (2, ('psychologist', 'couch')), (2, ('musician', 'lot')), (2, ('sister', 'girl')), (2, ('Columbian', 'many')), (2, ('Italy', 'good')), (2, ('Cape Verde', 'place')), (2, ('schoolboy', 'child')), (2, ('chess player', 'boring')), (2, ('plumber', 'man')), (2, ('producer', 'rude')), (2, ('engineer', 'top')), (2, ('gentlemen', 'suits')), (2, ('historian', 'knowledge')), (2, ('African', 'dark')), (2, ('civil servant', 'middle')), (2, ('Iraq', 'one')), (2, ('male', 'women')), (2, ('bartender', 'tip')), (2, ('Sierra Leon', 'place')), (2, ('Crimean', 'many')), (2, ('performing artist', 'most')), (2, ('Ukrainian', 'russian')), (2, ('bartender', 'alcoholic')), (2, ('Hispanic', 'lazy')), (2, ('historian', 'nose')), (2, ('Afghanistan', 'poor')), (2, ('Ukrainian', 'company')), (2, ('mover', 'men')), (2, ('mommy', 'caring')), (2, ('civil servant', 'person')), (2, ('mommy', 'kids')), (2, ('Russian', 'country')), (2, ('Morocco', 'rug')), (2, ('Morocco', 'markets')), (2, ('musician', 'drugs')), (2, ('Spain', 'flame')), (2, ('policeman', 'rude')), (2, ('bartender', 'attractive')), (2, ('Brahmin', 'oil')), (2, ('software developer', 'awkward')), (2, ('Syria', 'civil')), (2, ('nurse', 'doctor')), (2, ('Russian', 'alcohol')), (2, ('mathematician', 'awkward')), (2, ('mover', 'tall')), (2, ('football player', 'stupid')), (2, ('grandfather', 'children')), (2, ('Morocco', 'low')), (2, ('Eritrean', 'bad')), (2, ('Bengali', 'hard')), (2, ('Spain', 'romantic')), (2, ('Spain', 'beautiful')), (2, ('schoolboy', 'boy')), (2, ('physicist', 'smart')), (2, ('software developer', 'screen')), (2, ('politician', 'lot')), (2, ('Russian', 'thick')), (2, ('assistant', 'young')), (2, ('assistant', 'blonde')), (2, ('entrepreneur', 'rich')), (2, ('prosecutor', 'innocent')), (2, ('guitarist', 'leather')), (2, ('prosecutor', 'ruthless')), (2, ('Syria', 'country')), (2, ('chemist', 'chemicals')), (2, ('Bible', 'full')), (2, ('herself', 'women')), (2, ('performing artist', 'money')), (2, ('Britain', 'british')), (2, ('sister', 'baby')), (2, ('manager', 'person')), (2, ('politician', 'good')), (2, ('musician', 'drug')), (2, ('politician', 'men')), (2, ('Hispanic', 'most')), (2, ('grandfather', 'money')), (2, ('mommy', 'nur')), (2, ('politician', 'bribes')), (2, ('Hispanic', 'tan')), (2, ('manager', 'employees')), (2, ('performing artist', 'center')), (2, ('Norweigan', 'norwegian')), (2, ('commander', 'attention')), (2, ('mother', 'home')), (2, ('Persian people', 'many')), (2, ('himself', 'gym')), (2, ('manager', 'mba')), (2, ('Lebanon', 'lot')), (2, ('football player', 'many')), (2, ('bartender', 'orders')), (2, ('bartender', 'customers')), (2, ('Ethiopia', 'poverty')), (2, ('Afghanistan', 'hot')), (2, ('African', 'most')), (2, ('bartender', 'man')), (2, ('assistant', 'attractive')), (2, ('Cameroon', 'war')), (2, ('Lebanon', 'food')), (2, ('manager', 'rules')), (2, ('Muslim', 'violent')), (2, ('Somalia', 'ransom')), (2, ('delivery man', 'man')), (2, ('commander', 'power')), (2, ('musician', 'high')), (2, ('psychologist', 'lot')), (2, ('Yemen', 'many')), (2, ('mother', 'caring')), (2, ('grandfather', 'day')), (2, ('grandfather', 'strict')), (2, ('engineer', 'social')), (2, ('mother', 'kind')), (2, ('chemist', 'drugs')), (2, ('plumber', 'late')), (2, ('plumber', 'usual')), (2, ('mother', 'house')), (2, ('mother', 'husband')), (2, ('Arab', 'life')), (2, ('mover', 'stuff')), (2, ('Bengali', 'rice')), (2, ('Persian people', 'brown')), (2, ('butcher', 'blood')), (2, ('schoolgirl', 'class')), (2, ('Saudi Arabian', 'terrorists')), (2, ('Italy', 'full')), (2, ('African', 'fast')), (2, ('Ukrainian', 'much')), (2, ('guitarist', 'drugs')), (2, ('Syria', 'crime')), (2, ('historian', 'history')), (2, ('Persian people', 'race')), (2, ('schoolgirl', 'friends')), (2, ('butcher', 'tall')), (2, ('performing artist', 'many')), (2, ('psychologist', 'many')), (2, ('Russian', 'women')), (2, ('guitarist', 'greasy')), (2, ('software developer', 'days')), (2, ('entrepreneur', 'white')), (2, ('entrepreneur', 'man')), (2, ('plumber', 'expensive')), (2, ('engineer', 'profession')), (2, ('Ghanaian', 'dark')), (2, ('Cape Verde', 'poor')), (2, ('Somalia', 'lot')), (2, ('Syria', 'violence')), (2, ('Ethiopia', 'distance')), (2, ('Britain', 'rude')), (2, ('Morocco', 'dangerous')), (2, ('prisoner', 'guard')), (2, ('Saudi Arabian', 'terrorism')), (2, ('Bengali', 'country')), (2, ('historian', 'intelligent')), (2, ('software developer', 'ne')), (2, ('bartender', 'guy')), (2, ('bartender', 'bar')), (2, ('chemist', 'intelligent')), (2, ('Lebanon', 'lebanese')), (2, ('Cameroon', 'dark')), (2, ('Lebanon', 'country')), (2, ('prosecutor', 'men')), (2, ('Somalia', 'place')), (2, ('Afghanistan', 'man')), (2, ('policeman', 'racist')), (2, ('butcher', 'large')), (2, ('butcher', 'strong')), (2, ('Norway', 'many')), (2, ('Britain', 'royal')), (2, ('Britain', 'family')), (2, ('guitarist', 'real')), (2, ('schoolgirl', 'school')), (2, ('Afghanistan', 'place')), (2, ('prosecutor', 'young')), (2, ('prosecutor', 'law')), (2, ('schoolgirl', 'uniform')), (2, ('Norway', 'lot')), (2, ('bartender', 'drinks')), (2, ('software developer', 'software')), (2, ('chess player', 'genius')), (2, ('plumber', 'old')), (2, ('plumber', 'jeans')), (2, ('plumber', 't')), (2, ('plumber', 'shirt')), (2, ('Columbian', 'soccer')), (2, ('Lebanon', 'women')), (2, ('Eritrean', 'food')), (2, ('prosecutor', 'fake')), (2, ('Russian', 'lot')), (2, ('Iraq', 'muslim')), (2, ('Yemen', 'poor')), (2, ('Brahmin', 'poor')), (2, ('mathematician', 'geek')), (2, ('civil servant', 'passionate')), (2, ('Syria', 'violent')), (2, ('Vietnam', 'nails')), (2, ('Arab', 'many')), (2, ('Jordan', 'terrorists')), (2, ('manager', 'stick')), (2, ('policeman', 'middle')), (2, ('schoolboy', 'immature')), (2, ('performing artist', 'diva')), (2, ('producer', 'movie')), (2, ('Yemen', 'dangerous')), (2, ('politician', 'big')), (2, ('football player', 'dumb')), (2, ('Sierra Leon', 'dirty')), (2, ('Cameroon', 'foods')), (2, ('tailor', 'fashion')), (2, ('chess player', 'intelligent')), (2, ('Norway', 'high')), (2, ('Eritrean', 'other')), (2, ('Crimean', 'waste')), (2, ('Vietnam', 'place')), (2, ('grandfather', 'rec')), (2, ('politician', 'tax')), (2, ('Afghanistan', 'country')), (2, ('Iraq', 'leaders')), (2, ('chess player', 'ne')), (2, ('nurse', 'woman')), (2, ('Saudi Arabian', 'money')), (2, ('Ghanaian', 'culture')), (2, ('researcher', 'lab')), (2, ('grandfather', 'many')), (2, ('Cape Verde', 'isolated')), (2, ('Columbian', 'hot')), (2, ('Vietnam', 'american')), (2, ('Syria', 'lot')), (2, ('Ethiopian', 'death')), (2, ('grandfather', 'war')), (2, ('Arab', 'tu')), (2, ('Ukrainian', 'women')), (2, ('Eriteria', 'few')), (2, ('Japanese', 'good')), (2, ('Ethiopian', 'food')), (2, ('guitarist', 'music')), (2, ('African', 'exotic')), (2, ('civil servant', 'bureaucracy')), (2, ('Somalia', 'large')), (2, ('Somalia', 'black')), (2, ('tailor', 'family')), (2, ('Muslim', 'women')), (2, ('Italy', 'beautiful')), (2, ('himself', 'alone')), (2, ('producer', 'man')), (1, ('Afghanistan', 'bad')), (1, ('Afghanistan', 'constant')), (1, ('Afghanistan', 'citizens')), (1, ('Afghanistan', 'lot')), (1, ('Afghanistan', 'eastern')), (1, ('Afghanistan', 'dinner')), (1, ('Afghanistan', 'controlling')), (1, ('Afghanistan', 'most')), (1, ('Afghanistan', 'women')), (1, ('African', 'athletes')), (1, ('Afghanistan', 'muslim')), (1, ('Afghanistan', 'dirt')), (1, ('Afghanistan', 'education')), (1, ('Afghanistan', 'county')), (1, ('Afghanistan', 'different')), (1, ('Afghanistan', 'terrorism')), (1, ('African', 'climates')), (1, ('African', 'elephants')), (1, ('African', 'clothing')), (1, ('African', 'bed')), (1, ('African', 'hungry')), (1, ('Afghanistan', 'turmoil')), (1, ('African', 'class')), (1, ('Afghanistan', 'tents')), (1, ('Afghanistan', 'goats')), (1, ('Afghanistan', 'group')), (1, ('African', 'animals')), (1, ('Afghanistan', 'flat')), (1, ('Afghanistan', 'daughters')), (1, ('Afghanistan', 'savage')), (1, ('Afghanistan', 'families')), (1, ('African', 'dish')), (1, ('Bangladesh', 'nation')), (1, ('African', 'country')), (1, ('Arab', 'menacing')), (1, ('African', 'savanna')), (1, ('Britain', 'colonial')), (1, ('African', 'culture')), (1, ('Bible', 'gold')), (1, ('Bible', 'bored')), (1, ('African', 'better')), (1, ('African', 'indigenous')), (1, ('Brahmin', 'good')), (1, ('African', 'sc')), (1, ('Bengali', 'culture')), (1, ('African', 'criminal')), (1, ('Bible', 'advice')), (1, ('Arab', 'friend')), (1, ('African', 'natives')), (1, ('Afghanistan', 'roads')), (1, ('African', 'runner')), (1, ('African', 'afro')), (1, ('Afghanistan', 'habits')), (1, ('Bengali', 'issues')), (1, ('African', 'tales')), (1, ('Afghanistan', 'guests')), (1, ('African', 'runners')), (1, ('African', 'big')), (1, ('Afghanistan', 'groups')), (1, ('African', 'eighties')), (1, ('Arab', 'local')), (1, ('Afghanistan', 'fighters')), (1, ('Afghanistan', 'many')), (1, ('African', 'other')), (1, ('Bengali', 'predatory')), (1, ('Bangladesh', 'struggling')), (1, ('Bengali', 'funny')), (1, ('Ecuador', 'casual')), (1, ('African', 'full')), (1, ('Bengali', 'day')), (1, ('Bengali', 'caps')), (1, ('Bengali', 'center')), (1, ('African', 'skinned')), (1, ('Britain', 'countries')), (1, ('Eriteria', 'collection')), (1, ('Bible', 'gay')), (1, ('African', 'vibrant')), (1, ('Bible', 'leather')), (1, ('Brahmin', 'expert')), (1, ('Ecuador', 'foods')), (1, ('Bible', 'congregation')), (1, ('Arab', 'meek')), (1, ('African', 'terrorism')), (1, ('Bangladesh', 'brunette')), (1, ('African', 'part')), (1, ('Cameroon', 'safe')), (1, ('Cameroon', 'sports')), (1, ('Arab', 'wives')), (1, ('Arab', 'rich')), (1, ('Crimean', 'networks')), (1, ('Bengali', 'most')), (1, ('African', 'events')), (1, ('Bengali', 'women')), (1, ('Bible', 'honest')), (1, ('Ethiopia', 'communities')), (1, ('Arab', 'garbage')), (1, ('Bangladesh', 'area')), (1, ('Britain', 'chips')), (1, ('Bangladesh', 'digest')), (1, ('Arab', 'belly')), (1, ('Afghanistan', 'sand')), (1, ('Arab', 'terrorists')), (1, ('Bengali', 'dinner')), (1, ('African', 'beard')), (1, ('Bangladesh', 'dot')), (1, ('Afghanistan', 'work')), (1, ('Afghanistan', 'process')), (1, ('Ecuador', 'tourists')), (1, ('Bengali', 'sanitation')), (1, ('African', 'tigers')), (1, ('Arab', 'comments')), (1, ('Bible', 'women')), (1, ('Afghanistan', 'prisoner')), (1, ('Bible', 'violent')), (1, ('Bangladesh', 'countries')), (1, ('Brahmin', 'highest')), (1, ('African', 'bu')), (1, ('Afghanistan', 'relations')), (1, ('Afghanistan', 'lamb')), (1, ('African', 'lot')), (1, ('Arab', 'country')), (1, ('Arab', 'manager')), (1, ('Bangladesh', 'hut')), (1, ('Afghanistan', 'places')), (1, ('Afghanistan', 'great')), (1, ('Afghanistan', 'war')), (1, ('Afghanistan', 'tough')), (1, ('Britain', 'sc')), (1, ('African', 'passengers')), (1, ('Britain', 'dental')), (1, ('Bengali', 'tigers')), (1, ('Brahmin', 'gross')), (1, ('Cameroon', 'org')), (1, ('Bengali', 'nickname')), (1, ('Bengali', 'students')), (1, ('Ecuador', 'countries')), (1, ('Ecuador', 'weather')), (1, ('Eriteria', 'famine')), (1, ('Bengali', 'lots')), (1, ('Bengali', 'monkey')), (1, ('Italy', 'names')), (1, ('Cameroon', 'huts')), (1, ('Bengali', 'close')), (1, ('Cameroon', 'elephants')), (1, ('Bengali', 'sure')), (1, ('Bengali', 'call')), (1, ('Arab', 'convenience')), (1, ('Britain', 'occupations')), (1, ('Britain', 'life')), (1, ('Ethiopian', 'fun')), (1, ('Jordan', 'war')), (1, ('Brahmin', 'children')), (1, ('Brahmin', 'bad')), (1, ('Bible', 'boring')), (1, ('African', 'weeks')), (1, ('Bible', 'thick')), (1, ('Cape Verde', 'thieves')), (1, ('Crimean', 'poverty')), (1, ('Cape Verde', 'climate')), (1, ('Ecuador', 'spicy')), (1, ('Eriteria', 'dangerous')), (1, ('Bible', 'irrelevant')), (1, ('Columbian', 'type')), (1, ('Cameroon', 'area')), (1, ('Bangladesh', 'grim')), (1, ('Bengali', 'eyes')), (1, ('African', 'violence')), (1, ('Bangladesh', 'hair')), (1, ('Columbian', 'cartel')), (1, ('Cape Verde', 'bad')), (1, ('African', 'skin')), (1, ('Crimean', 'poor')), (1, ('Columbian', 'culture')), (1, ('Crimean', 'village')), (1, ('Columbian', 'dad')), (1, ('Bible', 'contradiction')), (1, ('Bangladesh', 'cheap')), (1, ('Bangladesh', 'contact')), (1, ('Cape Verde', 'accent')), (1, ('Ethiopia', 'most')), (1, ('Eritrean', 'poverty')), (1, ('Bengali', 'nice')), (1, ('Ghanaian', 'brutal')), (1, ('Ecuador', 'clean')), (1, ('African', 'high')), (1, ('Britain', 'smug')), (1, ('Brahmin', 'elegant')), (1, ('Bible', 'living')), (1, ('Britain', 'american')), (1, ('Sierra Leon', 'capital')), (1, ('Ethiopia', 'oldest')), (1, ('Crimean', 'country')), (1, ('Britain', 'violent')), (1, ('Brahmin', 'educated')), (1, ('Britain', 'tourists')), (1, ('Eritrean', 'lazy')), (1, ('Britain', 'fish')), (1, ('Bible', 'long')), (1, ('Bangladesh', 'food')), (1, ('Arab', 'dancers')), (1, ('Iranian', 'mean')), (1, ('Arab', 'liberal')), (1, ('Cape Verde', 'most')), (1, ('Muslim', 'beliefs')), (1, ('Arab', 'western')), (1, ('Brahmin', 'else')), (1, ('Brahmin', 'better')), (1, ('Cape Verde', 'ports')), (1, ('Cape Verde', 'dark')), (1, ('Bengali', 'zoo')), (1, ('Bangladesh', 'forehead')), (1, ('Bengali', 'economy')), (1, ('Bangladesh', 'single')), (1, ('Afghanistan', 'way')), (1, ('Columbian', 'criminals')), (1, ('Japanese', 'deal')), (1, ('Eritrean', 'barbarians')), (1, ('Ecuador', 'american')), (1, ('Columbian', 'involved')), (1, ('Bible', 'sacred')), (1, ('African', 'today')), (1, ('Arab', 'rude')), (1, ('Jordan', 'contact')), (1, ('Cameroon', 'dirty')), (1, ('Japanese', 'camera')), (1, ('Afghanistan', 'wife')), (1, ('Bangladesh', 'exotic')), (1, ('Crimean', 'happy')), (1, ('Cameroon', 'most')), (1, ('Columbian', 'hard')), (1, ('Bangladesh', 'over')), (1, ('Morocco', 'aromatic')), (1, ('Cape Verde', 'lazy')), (1, ('Brahmin', 'caste')), (1, ('African', 'guys')), (1, ('African', 'basketball')), (1, ('Arab', 'muslim')), (1, ('Arab', 'ne')), (1, ('Brahmin', 'famous')), (1, ('Crimean', 'friendly')), (1, ('African', 'lots')), (1, ('Britain', 'superficial')), (1, ('Arab', 'driver')), (1, ('Eritrean', 'skinned')), (1, ('Bangladesh', 'child')), (1, ('Iraq', 'own')), (1, ('Bangladesh', 'small')), (1, ('Bangladesh', 'bad')), (1, ('Bible', 'inspiration')), (1, ('African', 'afraid')), (1, ('Afghanistan', 'violence')), (1, ('Bible', 'holy')), (1, ('Arab', 'office')), (1, ('Arab', 'nervous')), (1, ('Brahmin', 'african')), (1, ('Eriteria', 'insignificant')), (1, ('Britain', 'terrible')), (1, ('Bangladesh', 'doctors')), (1, ('African', 'strange')), (1, ('Ghanaian', 'mal')), (1, ('Britain', 'poor')), (1, ('Bengali', 'violent')), (1, ('Brahmin', 'possible')), (1, ('Cameroon', 'friend')), (1, ('Brahmin', 'men')), (1, ('Iranian', 'children')), (1, ('Ethiopia', 'shots')), (1, ('Ethiopia', 'diseases')), (1, ('Bengali', 'other')), (1, ('Brahmin', 'world')), (1, ('Brahmin', 'person')), (1, ('Ecuador', 'criminals')), (1, ('Italy', 'monuments')), (1, ('Ethiopia', 'clean')), (1, ('Norway', 'communist')), (1, ('Jordan', 'religion')), (1, ('Ethiopia', 'low')), (1, ('Ecuador', 'attire')), (1, ('Ethiopian', 'exchange')), (1, ('Cameroon', 'mud')), (1, ('Bengali', 'winter')), (1, ('Italy', 's')), (1, ('Jordan', 'angry')), (1, ('Eritrean', 'entire')), (1, ('Cameroon', 'is')), (1, ('Ecuador', 'place')), (1, ('Bengali', 'deadly')), (1, ('Norway', 'sports')), (1, ('Cameroon', 'jobs')), (1, ('Ecuador', 'education')), (1, ('Cameroon', 'coffee')), (1, ('Cape Verde', 'characters')), (1, ('Ethiopia', 'fast')), (1, ('Crimean', 'person')), (1, ('Arab', 'store')), (1, ('Britain', 'tendency')), (1, ('Britain', 'other')), (1, ('Britain', 'wealthy')), (1, ('Britain', 'lot')), (1, ('Ethiopian', 'men')), (1, ('Ethiopian', 'places')), (1, ('Morocco', 'exquisite')), (1, ('Jordan', 'zone')), (1, ('Brahmin', 'man')), (1, ('butcher', 'next')), (1, ('Lebanon', 'civil')), (1, ('Iranian', 'country')), (1, ('Bible', 'hotel')), (1, ('Cape Verde', 'accustomed')), (1, ('Persian people', 'artists')), (1, ('Muslim', 'eastern')), (1, ('Brahmin', 'class')), (1, ('Britain', 'fancy')), (1, ('Crimean', 'dark')), (1, ('Cape Verde', 'tropical')), (1, ('Eriteria', 'international')), (1, ('Eriteria', 'it')), (1, ('Ethiopia', 'running')), (1, ('Jordan', 'safe')), (1, ('Eriteria', 'obscure')), (1, ('Eriteria', 'countries')), (1, ('Hispanic', 'mat')), (1, ('Eritrean', 'faith')), (1, ('Hispanic', 'hard')), (1, ('Cameroon', 'equator')), (1, ('Japanese', 'meek')), (1, ('Japanese', 'last')), (1, ('Hispanic', 'lawn')), (1, ('Cameroon', 'warm')), (1, ('Bible', 'lots')), (1, ('Bible', 'behavior')), (1, ('Iranian', 'heads')), (1, ('Bengali', 'skin')), (1, ('Columbian', 'politics')), (1, ('Bengali', 'darker')), (1, ('Bible', 'word')), (1, ('Bangladesh', 'jewelry')), (1, ('Lebanon', 'groups')), (1, ('Eritrean', 'hard')), (1, ('Ghanaian', 'night')), (1, ('Crimean', 'sort')), (1, ('Bengali', 'important')), (1, ('African', 'tribe')), (1, ('Eriteria', 'choice')), (1, ('bartender', 'bigger')), (1, ('Columbian', 'fest')), (1, ('Columbian', 'spirit')), (1, ('Eritrean', 'countries')), (1, ('Sierra Leon', 'pieces')), (1, ('Hispanic', 'free')), (1, ('Columbian', 'surprised')), (1, ('Columbian', 'car')), (1, ('Muslim', 'guilt')), (1, ('Bangladesh', 'cloth')), (1, ('Morocco', 'strange')), (1, ('Cameroon', 'planes')), (1, ('Bangladesh', 'eye')), (1, ('Crimean', 'communities')), (1, ('Crimean', 'family')), (1, ('Ukrainian', 'day')), (1, ('Saudi Arabian', 'day')), (1, ('Eritrean', 'stricken')), (1, ('Ethiopia', 'natives')), (1, ('Eriteria', 'existence')), (1, ('Bengali', 'places')), (1, ('Ghanaian', 'trade')), (1, ('Iraq', 'fine')), (1, ('Ethiopia', 'nigerian')), (1, ('Ghanaian', 'mother')), (1, ('Ecuador', 'bathrooms')), (1, ('Cameroon', 'exotic')), (1, ('Cameroon', 'spices')), (1, ('Ecuador', 'ocean')), (1, ('Brahmin', 'manners')), (1, ('Brahmin', 'lovely')), (1, ('Ethiopia', 'christian')), (1, ('Bible', 'sound')), (1, ('Britain', 'many')), (1, ('Spain', 'bunch')), (1, ('chess player', 'fr')), (1, ('Sierra Leon', 'citizens')), (1, ('Hispanic', 'natives')), (1, ('Ghanaian', 'full')), (1, ('Ethiopia', 'world')), (1, ('Norweigan', 'day')), (1, ('Norweigan', 'hands')), (1, ('Britain', 'wars')), (1, ('Ecuador', 'earth')), (1, ('Brahmin', 'professional')), (1, ('Ghanaian', 'athlete')), (1, ('Ghanaian', 'team')), (1, ('Morocco', 'countryside')), (1, ('Jordan', 'full')), (1, ('Britain', 'place')), (1, ('Italy', 'cheese')), (1, ('Bible', 'stories')), (1, ('Brahmin', 'bags')), (1, ('Bible', 'lies')), (1, ('Bangladesh', 'upset')), (1, ('mathematician', 'books')), (1, ('Ethiopian', 'tall')), (1, ('Yemen', 'women')), (1, ('Persian people', 'dirty')), (1, ('Britain', 'class')), (1, ('Britain', 'bunch')), (1, ('Eritrean', 'blank')), (1, ('Columbian', 'thief')), (1, ('Muslim', 'religious')), (1, ('Norweigan', 'awful')), (1, ('Bible', 'order')), (1, ('Bible', 'writing')), (1, ('Brahmin', 'religious')), (1, ('Hispanic', 'life'))]\n"
     ]
    }
   ],
   "source": [
    "print(heapq.nlargest(1000, heap, key=lambda x: x[0]))"
   ]
  },
  {
   "cell_type": "code",
   "execution_count": null,
   "id": "6c64a2ee-5d72-4e3b-bb9f-06e7e5446520",
   "metadata": {},
   "outputs": [],
   "source": []
  }
 ],
 "metadata": {
  "kernelspec": {
   "display_name": "Python 3 (ipykernel)",
   "language": "python",
   "name": "python3"
  },
  "language_info": {
   "codemirror_mode": {
    "name": "ipython",
    "version": 3
   },
   "file_extension": ".py",
   "mimetype": "text/x-python",
   "name": "python",
   "nbconvert_exporter": "python",
   "pygments_lexer": "ipython3",
   "version": "3.8.13"
  }
 },
 "nbformat": 4,
 "nbformat_minor": 5
}
