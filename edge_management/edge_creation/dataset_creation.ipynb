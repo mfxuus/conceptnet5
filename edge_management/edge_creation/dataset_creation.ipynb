{
 "cells": [
  {
   "cell_type": "code",
   "execution_count": 3,
   "id": "382361f9-7fe6-4cf7-a153-1af8d2f08f0a",
   "metadata": {},
   "outputs": [],
   "source": [
    "import json"
   ]
  },
  {
   "cell_type": "code",
   "execution_count": 4,
   "id": "3ae5a0f7-f48c-4c81-b55d-3cc1c7b5fb2b",
   "metadata": {},
   "outputs": [],
   "source": [
    "f = open('StereoSet.json')\n",
    "j = json.load(f)"
   ]
  },
  {
   "cell_type": "code",
   "execution_count": 10,
   "id": "6da8402f-fa2c-4fbf-8549-1f12c6be2fb4",
   "metadata": {},
   "outputs": [],
   "source": [
    "context_to_stereotype = {}\n",
    "targets = {}\n",
    "for entry in j['data']['intersentence']:\n",
    "    context = entry[\"context\"]\n",
    "    for sentence in entry['sentences']:\n",
    "        if sentence[\"gold_label\"] != \"stereotype\":\n",
    "            continue\n",
    "        context_to_stereotype[context] = sentence[\"sentence\"]\n",
    "    targets[context] = entry[\"target\"]"
   ]
  },
  {
   "cell_type": "code",
   "execution_count": 13,
   "id": "022e2452-6d3a-49c9-bbb4-788c01b9027a",
   "metadata": {},
   "outputs": [
    {
     "ename": "TypeError",
     "evalue": "unhashable type: 'slice'",
     "output_type": "error",
     "traceback": [
      "\u001b[1;31m---------------------------------------------------------------------------\u001b[0m",
      "\u001b[1;31mTypeError\u001b[0m                                 Traceback (most recent call last)",
      "Input \u001b[1;32mIn [13]\u001b[0m, in \u001b[0;36m<cell line: 1>\u001b[1;34m()\u001b[0m\n\u001b[1;32m----> 1\u001b[0m \u001b[38;5;28mprint\u001b[39m(\u001b[43mcontext_to_stereotype\u001b[49m\u001b[43m[\u001b[49m\u001b[43m:\u001b[49m\u001b[38;5;241;43m4\u001b[39;49m\u001b[43m]\u001b[49m)\n",
      "\u001b[1;31mTypeError\u001b[0m: unhashable type: 'slice'"
     ]
    }
   ],
   "source": [
    "with open(\"StereoSet_filtered.json\", 'w') as outfile:\n",
    "    json.dump(context_to_stereotype, outfile)"
   ]
  },
  {
   "cell_type": "code",
   "execution_count": 11,
   "id": "6b1d71f0-7821-4c13-8aaf-858b1ab9620e",
   "metadata": {},
   "outputs": [],
   "source": [
    "with open(\"StereoSet_targets.json\", 'w') as outfile:\n",
    "    json.dump(targets, outfile)"
   ]
  },
  {
   "cell_type": "code",
   "execution_count": null,
   "id": "5e60c486-fbe5-4c48-8dba-5c667bf4225f",
   "metadata": {},
   "outputs": [],
   "source": [
    "f.close()"
   ]
  }
 ],
 "metadata": {
  "kernelspec": {
   "display_name": "Python 3 (ipykernel)",
   "language": "python",
   "name": "python3"
  },
  "language_info": {
   "codemirror_mode": {
    "name": "ipython",
    "version": 3
   },
   "file_extension": ".py",
   "mimetype": "text/x-python",
   "name": "python",
   "nbconvert_exporter": "python",
   "pygments_lexer": "ipython3",
   "version": "3.8.13"
  }
 },
 "nbformat": 4,
 "nbformat_minor": 5
}
