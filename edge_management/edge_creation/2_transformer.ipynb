{
 "cells": [
  {
   "cell_type": "markdown",
   "metadata": {
    "id": "zrlTQ4RsXU-V"
   },
   "source": [
    "# 2 - Fine-tuning Pretrained Transformers for PoS Tagging\n",
    "\n",
    "## Introduction\n",
    "\n",
    "In the previous notebook we showed how to use a BiLSTM with pretrained GloVe embeddings for PoS tagging. In this notebook we'll be using a pretrained [Transformer](https://arxiv.org/abs/1706.03762) model, specifically the pre-trained [BERT](https://arxiv.org/abs/1810.04805) model. Our model will be composed of the Transformer and a simple linear layer.\n",
    "\n",
    "## Preparing Data\n",
    "\n",
    "First, let's import the necessary Python modules.\n",
    "In google colab you will need to install the `transformers` library.\n",
    "\n",
    "```\n",
    "!pip install transformers\n",
    "```"
   ]
  },
  {
   "cell_type": "code",
   "execution_count": 1,
   "metadata": {
    "id": "pcLVRjnjXzg7"
   },
   "outputs": [],
   "source": [
    "#!pip install transformers"
   ]
  },
  {
   "cell_type": "code",
   "execution_count": 2,
   "metadata": {
    "id": "wb-cNA1mXU-W"
   },
   "outputs": [
    {
     "name": "stderr",
     "output_type": "stream",
     "text": [
      "C:\\Users\\Chris\\anaconda3\\envs\\POST-torch\\lib\\site-packages\\tqdm\\auto.py:22: TqdmWarning: IProgress not found. Please update jupyter and ipywidgets. See https://ipywidgets.readthedocs.io/en/stable/user_install.html\n",
      "  from .autonotebook import tqdm as notebook_tqdm\n"
     ]
    }
   ],
   "source": [
    "import torch\n",
    "import torch.nn as nn\n",
    "import torch.nn.functional as F\n",
    "import torch.optim as optim\n",
    "\n",
    "from torchtext.legacy import data\n",
    "from torchtext.legacy import datasets\n",
    "\n",
    "from transformers import BertTokenizer, BertModel\n",
    "\n",
    "import numpy as np\n",
    "\n",
    "import time\n",
    "import random\n",
    "import functools"
   ]
  },
  {
   "cell_type": "markdown",
   "metadata": {
    "id": "UkjeMGfgXU-b"
   },
   "source": [
    "Next, we'll set the random seeds for reproducability."
   ]
  },
  {
   "cell_type": "code",
   "execution_count": 3,
   "metadata": {
    "id": "gv-PYbIUXU-b"
   },
   "outputs": [],
   "source": [
    "SEED = 1234\n",
    "\n",
    "random.seed(SEED)\n",
    "np.random.seed(SEED)\n",
    "torch.manual_seed(SEED)\n",
    "torch.backends.cudnn.deterministic = True"
   ]
  },
  {
   "cell_type": "markdown",
   "metadata": {
    "id": "Jj4DBdJ4XU-e"
   },
   "source": [
    "Then, we'll import the BERT tokenizer. This defines how text into the model should be processed, but more importantly contains the vocabulary that the BERT model was pretrained with. We'll be using the `bert-base-uncased` tokenizer and model. This was trained on text that has been lowercased.\n",
    "\n",
    "In order to use pretrained models for NLP the vocabulary used needs to exactly match that of the pretrained model."
   ]
  },
  {
   "cell_type": "code",
   "execution_count": 4,
   "metadata": {
    "id": "nS2XMkfxXU-f"
   },
   "outputs": [
    {
     "name": "stderr",
     "output_type": "stream",
     "text": [
      "Downloading: 100%|██████████████████████████████████████████████████████████████████| 28.0/28.0 [00:00<00:00, 14.0kB/s]\n",
      "Downloading: 100%|██████████████████████████████████████████████████████████████████| 226k/226k [00:00<00:00, 1.80MB/s]\n",
      "Downloading: 100%|██████████████████████████████████████████████████████████████████| 455k/455k [00:00<00:00, 2.60MB/s]\n",
      "Downloading: 100%|█████████████████████████████████████████████████████████████████████| 570/570 [00:00<00:00, 569kB/s]\n"
     ]
    }
   ],
   "source": [
    "tokenizer = BertTokenizer.from_pretrained('bert-base-uncased')"
   ]
  },
  {
   "cell_type": "markdown",
   "metadata": {
    "id": "h9lRko1PXU-i"
   },
   "source": [
    "Another thing that we need to do is make sure the input sequence is formatted in the same way in which the BERT model was trained. \n",
    "\n",
    "BERT was trained on sequences that begin with a `[CLS]` token.\n",
    "\n",
    "So the sequence of tokens\n",
    "\n",
    "```python\n",
    "text = ['jack', 'went', 'to', 'the', 'shop']\n",
    "```\n",
    "\n",
    "should become:\n",
    "\n",
    "```python\n",
    "text = ['[CLS]', 'jack', 'went', 'to', 'the', 'shop']\n",
    "```\n",
    "\n",
    "Along with making our vocabularies match we also need to make sure our padding and unk tokens match those used in the pretrained model. By default TorchText uses `<pad>` and `<unk>`, but the BERT model uses `[PAD]` and `[UNK]`.\n",
    "\n",
    "Let's get the special tokens:"
   ]
  },
  {
   "cell_type": "code",
   "execution_count": 5,
   "metadata": {
    "colab": {
     "base_uri": "https://localhost:8080/"
    },
    "id": "bJ7kwurvXU-j",
    "outputId": "a33dfcc5-24c4-4205-8035-f461f4861f2e"
   },
   "outputs": [
    {
     "name": "stdout",
     "output_type": "stream",
     "text": [
      "[CLS] [PAD] [UNK]\n"
     ]
    }
   ],
   "source": [
    "init_token = tokenizer.cls_token\n",
    "pad_token = tokenizer.pad_token\n",
    "unk_token = tokenizer.unk_token\n",
    "\n",
    "print(init_token, pad_token, unk_token)"
   ]
  },
  {
   "cell_type": "markdown",
   "metadata": {
    "id": "O5ftgTExXU-n"
   },
   "source": [
    "We are mainly interested in the actual integer representations of the special tokens. This is because we aren't using TorchText's vocabulary module, but using the one provided by the pretrained model. \n",
    "\n",
    "We get the indexes of the special tokens by passing them through the tokenizer's `convert_tokens_to_ids` function."
   ]
  },
  {
   "cell_type": "code",
   "execution_count": 6,
   "metadata": {
    "colab": {
     "base_uri": "https://localhost:8080/"
    },
    "id": "B4TdEVVWXU-n",
    "outputId": "66c92f9e-dc0f-4f9d-f3b7-9cd17506f9f9"
   },
   "outputs": [
    {
     "name": "stdout",
     "output_type": "stream",
     "text": [
      "101 0 100\n"
     ]
    }
   ],
   "source": [
    "init_token_idx = tokenizer.convert_tokens_to_ids(init_token)\n",
    "pad_token_idx = tokenizer.convert_tokens_to_ids(pad_token)\n",
    "unk_token_idx = tokenizer.convert_tokens_to_ids(unk_token)\n",
    "\n",
    "print(init_token_idx, pad_token_idx, unk_token_idx)"
   ]
  },
  {
   "cell_type": "markdown",
   "metadata": {
    "id": "V0XDkA4aXU-r"
   },
   "source": [
    "One other thing is that the pretrained model was trained on sequences up to a maximum length and we need to ensure that our sequences are also trimmed to this length."
   ]
  },
  {
   "cell_type": "code",
   "execution_count": 7,
   "metadata": {
    "colab": {
     "base_uri": "https://localhost:8080/"
    },
    "id": "zrAoyoYCXU-r",
    "outputId": "a60dc870-1f80-4568-f9ef-8001fff16a56"
   },
   "outputs": [
    {
     "name": "stdout",
     "output_type": "stream",
     "text": [
      "512\n"
     ]
    }
   ],
   "source": [
    "max_input_length = tokenizer.max_model_input_sizes['bert-base-uncased']\n",
    "\n",
    "print(max_input_length)"
   ]
  },
  {
   "cell_type": "markdown",
   "metadata": {
    "id": "KD_ChHl0XU-v"
   },
   "source": [
    "Next, we'll define two helper functions that make use of our vocabulary.\n",
    "\n",
    "The first will cut the sequence of tokens to the desired maximum length, specified by our pretrained model, and then convert the tokens into indexes by passing them through the vocabulary. This is what we will use on our input sequence we want to tag.\n",
    "\n",
    "Note that we actually cut tokens to `max_input_length-1`, this is because we need to add the special `[CLS]` token to the start of the sequence."
   ]
  },
  {
   "cell_type": "code",
   "execution_count": 8,
   "metadata": {
    "id": "G_Xjhu3jXU-v"
   },
   "outputs": [],
   "source": [
    "def cut_and_convert_to_id(tokens, tokenizer, max_input_length):\n",
    "    tokens = tokens[:max_input_length-1]\n",
    "    tokens = tokenizer.convert_tokens_to_ids(tokens)\n",
    "    return tokens"
   ]
  },
  {
   "cell_type": "markdown",
   "metadata": {
    "id": "TIOm0RK-XU-y"
   },
   "source": [
    "The second helper function simply cuts the sequence to the maximum length. This is used for our tags. We do not pass the tags through pretrained model's vocabulary as the vocab was only built for English sentences, and not for part-of-speech tags. We will be building the tag vocabulary ourselves."
   ]
  },
  {
   "cell_type": "code",
   "execution_count": 9,
   "metadata": {
    "id": "TumdN5LnXU-0"
   },
   "outputs": [],
   "source": [
    "def cut_to_max_length(tokens, max_input_length):\n",
    "    tokens = tokens[:max_input_length-1]\n",
    "    return tokens"
   ]
  },
  {
   "cell_type": "markdown",
   "metadata": {
    "id": "zK5u89DMXU-3"
   },
   "source": [
    "We need to pass the above two functions to the `Field`, the TorchText abstraction that handles a lot of the data processing for us. We make use of Python's `functools` that allow us to pass functions which already have some of their arguments supplied. "
   ]
  },
  {
   "cell_type": "code",
   "execution_count": 10,
   "metadata": {
    "id": "6dgaT_fjXU-3"
   },
   "outputs": [],
   "source": [
    "text_preprocessor = functools.partial(cut_and_convert_to_id,\n",
    "                                      tokenizer = tokenizer,\n",
    "                                      max_input_length = max_input_length)\n",
    "\n",
    "tag_preprocessor = functools.partial(cut_to_max_length,\n",
    "                                     max_input_length = max_input_length)"
   ]
  },
  {
   "cell_type": "markdown",
   "metadata": {
    "id": "hpnVGVgMXU-6"
   },
   "source": [
    "Next, we define our fields.\n",
    "\n",
    "For the `TEXT` field, which will be processing the sequences we want to tag, we first tell TorchText that we do not want to use a vocabulary with `use_vocab = False`. As our model is `uncased`, we also want to ensure all text is lowercased with `lower=True`. The `preprocessing` argument is a function applied to sequences after they have been tokenized, but before they are numericalized. As we have set `use_vocab` to false, they will never actually be numericalized, and as we are using TorchText's POS datasets they have also already been tokenized - so the argument to this will just be applied to the sequence of tokens. This is where our help functions from above come in handy and `text_preprocessor` will both numericalize our data using the pretrained model's vocabulary, as well as cutting it to the maximum length. The remaining four arguments define the special tokens required by the pretrained model.\n",
    "\n",
    "For the `UD_TAGS` field, we need to ensure the length of our tags matches the length of our text sequence. As we have added a `[CLS]` token to the beginning of the text sequence, we need to do the same with the sequence of tags. We do this by adding a `<pad>` token to the beginning which we will later tell our model to not use when calculating losses or accuracy. We won't have unknown tags in our sequence of tags, so we set the `unk_token` to `None`. Finally, we pass our `tag_preprocessor` defined above, which simply cuts the tags to the maximum length our pretrained model can handle."
   ]
  },
  {
   "cell_type": "code",
   "execution_count": 11,
   "metadata": {
    "id": "LhJEvvF3XU-6"
   },
   "outputs": [],
   "source": [
    "TEXT = data.Field(use_vocab = False,\n",
    "                  lower = True,\n",
    "                  preprocessing = text_preprocessor,\n",
    "                  init_token = init_token_idx,\n",
    "                  pad_token = pad_token_idx,\n",
    "                  unk_token = unk_token_idx)\n",
    "\n",
    "UD_TAGS = data.Field(unk_token = None,\n",
    "                     init_token = '<pad>',\n",
    "                     preprocessing = tag_preprocessor)"
   ]
  },
  {
   "cell_type": "markdown",
   "metadata": {
    "id": "M_1UotuUXU--"
   },
   "source": [
    "Then, we define which of our fields defined above correspond to which fields in the dataset."
   ]
  },
  {
   "cell_type": "code",
   "execution_count": 12,
   "metadata": {
    "id": "RrTXFdSgXU--"
   },
   "outputs": [],
   "source": [
    "fields = ((\"text\", TEXT), (\"udtags\", UD_TAGS))"
   ]
  },
  {
   "cell_type": "markdown",
   "metadata": {
    "id": "xJotJpLIXU_B"
   },
   "source": [
    "Next, we load the data using our fields."
   ]
  },
  {
   "cell_type": "code",
   "execution_count": 13,
   "metadata": {
    "id": "gn7OmDceXU_C"
   },
   "outputs": [
    {
     "name": "stdout",
     "output_type": "stream",
     "text": [
      "downloading en-ud-v2.zip\n"
     ]
    },
    {
     "name": "stderr",
     "output_type": "stream",
     "text": [
      "C:\\Users\\Chris\\Documents\\code\\pytorch-pos-tagging\\.data\\udpos\\en-ud-v2.zip: 100%|███| 688k/688k [00:00<00:00, 3.35MB/s]\n"
     ]
    },
    {
     "name": "stdout",
     "output_type": "stream",
     "text": [
      "extracting\n"
     ]
    }
   ],
   "source": [
    "train_data, valid_data, test_data = datasets.UDPOS.splits(fields)"
   ]
  },
  {
   "cell_type": "markdown",
   "metadata": {
    "id": "cPhIecHJXU_E"
   },
   "source": [
    "We can check an example by printing it. As we have already numericalized our `text` using the vocabulary of the pretrained model, it is already a sequence of integers. The tags have yet to be numericalized. "
   ]
  },
  {
   "cell_type": "code",
   "execution_count": 14,
   "metadata": {
    "colab": {
     "base_uri": "https://localhost:8080/"
    },
    "id": "jNLMuA22XU_E",
    "outputId": "71c82895-04d3-4e3a-f47a-282815006351"
   },
   "outputs": [
    {
     "name": "stdout",
     "output_type": "stream",
     "text": [
      "{'text': [2632, 1011, 100, 1024, 2137, 2749, 2730, 100, 14093, 2632, 1011, 100, 1010, 1996, 14512, 2012, 1996, 8806, 1999, 1996, 2237, 1997, 100, 1010, 2379, 1996, 9042, 3675, 1012], 'udtags': ['PROPN', 'PUNCT', 'PROPN', 'PUNCT', 'ADJ', 'NOUN', 'VERB', 'PROPN', 'PROPN', 'PROPN', 'PUNCT', 'PROPN', 'PUNCT', 'DET', 'NOUN', 'ADP', 'DET', 'NOUN', 'ADP', 'DET', 'NOUN', 'ADP', 'PROPN', 'PUNCT', 'ADP', 'DET', 'ADJ', 'NOUN', 'PUNCT']}\n"
     ]
    }
   ],
   "source": [
    "print(vars(train_data.examples[0]))"
   ]
  },
  {
   "cell_type": "markdown",
   "metadata": {
    "id": "J3HiRqq8XU_H"
   },
   "source": [
    "Our next step is to build the tag vocabulary so they can be numericalized during training. We do this by using the field's `.build_vocab` method on the `train_data`."
   ]
  },
  {
   "cell_type": "code",
   "execution_count": 15,
   "metadata": {
    "colab": {
     "base_uri": "https://localhost:8080/"
    },
    "id": "klpqOEHJXU_I",
    "outputId": "21035e0f-1143-4b35-a324-4198cdff9f7d"
   },
   "outputs": [
    {
     "name": "stdout",
     "output_type": "stream",
     "text": [
      "defaultdict(None, {'<pad>': 0, 'NOUN': 1, 'PUNCT': 2, 'VERB': 3, 'PRON': 4, 'ADP': 5, 'DET': 6, 'PROPN': 7, 'ADJ': 8, 'AUX': 9, 'ADV': 10, 'CCONJ': 11, 'PART': 12, 'NUM': 13, 'SCONJ': 14, 'X': 15, 'INTJ': 16, 'SYM': 17})\n"
     ]
    }
   ],
   "source": [
    "UD_TAGS.build_vocab(train_data)\n",
    "\n",
    "print(UD_TAGS.vocab.stoi)"
   ]
  },
  {
   "cell_type": "markdown",
   "metadata": {
    "id": "pFetOpw2XU_L"
   },
   "source": [
    "Next, we'll define our iterators. This will define how batches of data are provided when training. We set a batch size and define `device`, which will automatically put our batch on to the GPU, if we have one.\n",
    "\n",
    "The BERT model is quite large, so the batch size here is usually smaller than usual. However, the BERT paper itself mentions how they also fine-tuned using small batch sizes, so this shouldn't cause too much of an issue."
   ]
  },
  {
   "cell_type": "code",
   "execution_count": 16,
   "metadata": {
    "id": "BgIEyEkpXU_M"
   },
   "outputs": [],
   "source": [
    "BATCH_SIZE = 32\n",
    "\n",
    "device = torch.device('cuda' if torch.cuda.is_available() else 'cpu')\n",
    "print(f\"Device: {device}\")\n",
    "\n",
    "train_iterator, valid_iterator, test_iterator = data.BucketIterator.splits(\n",
    "    (train_data, valid_data, test_data), \n",
    "    batch_size = BATCH_SIZE,\n",
    "    device = device)"
   ]
  },
  {
   "cell_type": "markdown",
   "metadata": {
    "id": "gROHWG7tXU_P"
   },
   "source": [
    "## Building the Model\n",
    "\n",
    "Next up is defining our model. The model is relatively simple, with all of the complicated parts contained inside the BERT module which we do not have to worry about. We can think of the BERT as an embedding layer and all we do is add a linear layer on top of these embeddings to predict the tag for each token in the input sequence. \n",
    "\n",
    "![](https://github.com/bentrevett/pytorch-pos-tagging/blob/master/assets/pos-bert.png?raw=1)\n",
    "\n",
    "Previously the yellow squares were the embeddings provided by the embedding layer, but now they are embeddings provided by the pretrained BERT model. All inputs are passed to BERT at the same time. The arrows between the BERT embeddings indicate how BERT does not calculate embeddings for each tokens individually, but the embeddings are actually based off the other tokens within the sequence. We say the embeddings are *contextualized*.\n",
    "\n",
    "One thing to note is that we do not define an `embedding_dim` for our model, it is the size of the output of the pretrained BERT model and we cannot change it. Thus, we simply get the `embedding_dim` from the model's `hidden_size` attribute.\n",
    "\n",
    "BERT also wants sequences with the batch element first, hence we permute our input sequence before passing it to BERT."
   ]
  },
  {
   "cell_type": "code",
   "execution_count": 17,
   "metadata": {
    "id": "0bYCKE0xXU_P"
   },
   "outputs": [],
   "source": [
    "class BERTPoSTagger(nn.Module):\n",
    "    def __init__(self,\n",
    "                 bert,\n",
    "                 output_dim, \n",
    "                 dropout):\n",
    "        \n",
    "        super().__init__()\n",
    "        \n",
    "        self.bert = bert\n",
    "        \n",
    "        embedding_dim = bert.config.to_dict()['hidden_size']\n",
    "        \n",
    "        self.fc = nn.Linear(embedding_dim, output_dim)\n",
    "        \n",
    "        self.dropout = nn.Dropout(dropout)\n",
    "        \n",
    "    def forward(self, text):\n",
    "  \n",
    "        #text = [sent len, batch size]\n",
    "    \n",
    "        text = text.permute(1, 0)\n",
    "        \n",
    "        #text = [batch size, sent len]\n",
    "        \n",
    "        embedded = self.dropout(self.bert(text)[0])\n",
    "        \n",
    "        #embedded = [batch size, seq len, emb dim]\n",
    "                \n",
    "        embedded = embedded.permute(1, 0, 2)\n",
    "                    \n",
    "        #embedded = [sent len, batch size, emb dim]\n",
    "        \n",
    "        predictions = self.fc(self.dropout(embedded))\n",
    "        \n",
    "        #predictions = [sent len, batch size, output dim]\n",
    "        \n",
    "        return predictions"
   ]
  },
  {
   "cell_type": "markdown",
   "metadata": {
    "id": "JjnJmG9xXU_S"
   },
   "source": [
    "Next, we load the actual pretrained BERT uncased model - before we only loaded the tokenizer associated with the model.\n",
    "\n",
    "The first time we run this it will have to download the pretrained parameters."
   ]
  },
  {
   "cell_type": "code",
   "execution_count": 18,
   "metadata": {
    "colab": {
     "base_uri": "https://localhost:8080/"
    },
    "id": "q473f0kAXU_S",
    "outputId": "c960844c-b851-4480-e8c5-e6ce96c8b15f"
   },
   "outputs": [
    {
     "name": "stderr",
     "output_type": "stream",
     "text": [
      "Downloading: 100%|██████████████████████████████████████████████████████████████████| 420M/420M [00:23<00:00, 18.8MB/s]\n",
      "Some weights of the model checkpoint at bert-base-uncased were not used when initializing BertModel: ['cls.predictions.transform.LayerNorm.bias', 'cls.seq_relationship.weight', 'cls.predictions.decoder.weight', 'cls.predictions.transform.LayerNorm.weight', 'cls.predictions.bias', 'cls.predictions.transform.dense.weight', 'cls.seq_relationship.bias', 'cls.predictions.transform.dense.bias']\n",
      "- This IS expected if you are initializing BertModel from the checkpoint of a model trained on another task or with another architecture (e.g. initializing a BertForSequenceClassification model from a BertForPreTraining model).\n",
      "- This IS NOT expected if you are initializing BertModel from the checkpoint of a model that you expect to be exactly identical (initializing a BertForSequenceClassification model from a BertForSequenceClassification model).\n"
     ]
    }
   ],
   "source": [
    "bert = BertModel.from_pretrained('bert-base-uncased')"
   ]
  },
  {
   "cell_type": "markdown",
   "metadata": {
    "id": "l6ObUIfAXU_V"
   },
   "source": [
    "## Training the Model\n",
    "\n",
    "We finally get to instantiate our model - a simple linear model using BERT model to get word embeddings.\n",
    "\n",
    "Best of all, the only hyperparameter is dropout! This value has been chosen as it's a sensibile value, so there may be a better value of dropout available."
   ]
  },
  {
   "cell_type": "code",
   "execution_count": 19,
   "metadata": {
    "id": "oS-roKk0XU_V"
   },
   "outputs": [],
   "source": [
    "OUTPUT_DIM = len(UD_TAGS.vocab)\n",
    "DROPOUT = 0.25\n",
    "\n",
    "model = BERTPoSTagger(bert,\n",
    "                      OUTPUT_DIM, \n",
    "                      DROPOUT)"
   ]
  },
  {
   "cell_type": "markdown",
   "metadata": {
    "id": "cca5GGf-XU_Y"
   },
   "source": [
    "We can then count the number of trainable parameters. This includes the linear layer and all of the BERT parameters."
   ]
  },
  {
   "cell_type": "code",
   "execution_count": 20,
   "metadata": {
    "colab": {
     "base_uri": "https://localhost:8080/"
    },
    "id": "UHh9fi8rXU_Y",
    "outputId": "fe1109f8-153a-4661-b04c-fabcfe75b37e"
   },
   "outputs": [
    {
     "name": "stdout",
     "output_type": "stream",
     "text": [
      "The model has 109,496,082 trainable parameters\n"
     ]
    }
   ],
   "source": [
    "def count_parameters(model):\n",
    "    return sum(p.numel() for p in model.parameters() if p.requires_grad)\n",
    "\n",
    "print(f'The model has {count_parameters(model):,} trainable parameters')"
   ]
  },
  {
   "cell_type": "markdown",
   "metadata": {
    "id": "OTHMkwdlXU_b"
   },
   "source": [
    "Next, we define our optimizer. Usually when fine-tuning you want to use a lower learning rate than normal, this is because we don't want to drastically change the parameters as it may cause our model to forget what it has learned. This phenomenon is called catastrophic forgetting.\n",
    "\n",
    "We pick 5e-5 (0.00005) as it is one of the three values recommended in the BERT paper. Again, there may be better values for this dataset."
   ]
  },
  {
   "cell_type": "code",
   "execution_count": 21,
   "metadata": {
    "id": "6qIKZQ2EXU_b"
   },
   "outputs": [],
   "source": [
    "LEARNING_RATE = 5e-5\n",
    "\n",
    "optimizer = optim.Adam(model.parameters(), lr = LEARNING_RATE)"
   ]
  },
  {
   "cell_type": "markdown",
   "metadata": {
    "id": "wsqFKO5-XU_e"
   },
   "source": [
    "The rest of the notebook is pretty similar to before.\n",
    "\n",
    "We define a loss function, making sure to ignore losses whenever the target tag is a padding token."
   ]
  },
  {
   "cell_type": "code",
   "execution_count": 22,
   "metadata": {
    "id": "YJUz954cXU_e"
   },
   "outputs": [],
   "source": [
    "TAG_PAD_IDX = UD_TAGS.vocab.stoi[UD_TAGS.pad_token]\n",
    "\n",
    "criterion = nn.CrossEntropyLoss(ignore_index = TAG_PAD_IDX)"
   ]
  },
  {
   "cell_type": "markdown",
   "metadata": {
    "id": "GGNagpu6XU_i"
   },
   "source": [
    "Then, we place the model on to the GPU, if we have one."
   ]
  },
  {
   "cell_type": "code",
   "execution_count": 23,
   "metadata": {
    "id": "9Ur1XIJQXU_j"
   },
   "outputs": [],
   "source": [
    "model = model.to(device)\n",
    "criterion = criterion.to(device)"
   ]
  },
  {
   "cell_type": "markdown",
   "metadata": {
    "id": "heUYqdiHXU_l"
   },
   "source": [
    "Like in the previous tutorial, we define a function which calculates our accuracy of predicting tags, ignoring predictions over padding tokens."
   ]
  },
  {
   "cell_type": "code",
   "execution_count": 24,
   "metadata": {
    "id": "tvxKXAO5XU_m"
   },
   "outputs": [],
   "source": [
    "def categorical_accuracy(preds, y, tag_pad_idx):\n",
    "    \"\"\"\n",
    "    Returns accuracy per batch, i.e. if you get 8/10 right, this returns 0.8, NOT 8\n",
    "    \"\"\"\n",
    "    max_preds = preds.argmax(dim = 1, keepdim = True) # get the index of the max probability\n",
    "    non_pad_elements = (y != tag_pad_idx).nonzero()\n",
    "    correct = max_preds[non_pad_elements].squeeze(1).eq(y[non_pad_elements])\n",
    "    return correct.sum() / torch.FloatTensor([y[non_pad_elements].shape[0]]).to(device)"
   ]
  },
  {
   "cell_type": "markdown",
   "metadata": {
    "id": "i5G_0OckXU_o"
   },
   "source": [
    "We then define our `train` and `evaluate` functions to train and test our model. "
   ]
  },
  {
   "cell_type": "code",
   "execution_count": 25,
   "metadata": {
    "id": "mk9vFsMuXU_p"
   },
   "outputs": [],
   "source": [
    "def train(model, iterator, optimizer, criterion, tag_pad_idx):\n",
    "    \n",
    "    epoch_loss = 0\n",
    "    epoch_acc = 0\n",
    "    \n",
    "    model.train()\n",
    "    \n",
    "    for batch in iterator:\n",
    "        \n",
    "        text = batch.text\n",
    "        tags = batch.udtags\n",
    "                \n",
    "        optimizer.zero_grad()\n",
    "        \n",
    "        #text = [sent len, batch size]\n",
    "        \n",
    "        predictions = model(text)\n",
    "        \n",
    "        #predictions = [sent len, batch size, output dim]\n",
    "        #tags = [sent len, batch size]\n",
    "        \n",
    "        predictions = predictions.view(-1, predictions.shape[-1])\n",
    "        tags = tags.view(-1)\n",
    "        \n",
    "        #predictions = [sent len * batch size, output dim]\n",
    "        #tags = [sent len * batch size]\n",
    "        \n",
    "        loss = criterion(predictions, tags)\n",
    "                \n",
    "        acc = categorical_accuracy(predictions, tags, tag_pad_idx)\n",
    "        \n",
    "        loss.backward()\n",
    "        \n",
    "        optimizer.step()\n",
    "        \n",
    "        epoch_loss += loss.item()\n",
    "        epoch_acc += acc.item()\n",
    "        \n",
    "    return epoch_loss / len(iterator), epoch_acc / len(iterator)"
   ]
  },
  {
   "cell_type": "code",
   "execution_count": 26,
   "metadata": {
    "id": "SMz_0UzGXU_s"
   },
   "outputs": [],
   "source": [
    "def evaluate(model, iterator, criterion, tag_pad_idx):\n",
    "    \n",
    "    epoch_loss = 0\n",
    "    epoch_acc = 0\n",
    "    \n",
    "    model.eval()\n",
    "    \n",
    "    with torch.no_grad():\n",
    "    \n",
    "        for batch in iterator:\n",
    "\n",
    "            text = batch.text\n",
    "            tags = batch.udtags\n",
    "            \n",
    "            predictions = model(text)\n",
    "            \n",
    "            predictions = predictions.view(-1, predictions.shape[-1])\n",
    "            tags = tags.view(-1)\n",
    "            \n",
    "            loss = criterion(predictions, tags)\n",
    "            \n",
    "            acc = categorical_accuracy(predictions, tags, tag_pad_idx)\n",
    "\n",
    "            epoch_loss += loss.item()\n",
    "            epoch_acc += acc.item()\n",
    "        \n",
    "    return epoch_loss / len(iterator), epoch_acc / len(iterator)"
   ]
  },
  {
   "cell_type": "markdown",
   "metadata": {
    "id": "8D4CqQNNXU_v"
   },
   "source": [
    "Then, we define a helper function used to see how long an epoch takes."
   ]
  },
  {
   "cell_type": "code",
   "execution_count": 27,
   "metadata": {
    "id": "57McNtpWXU_v"
   },
   "outputs": [],
   "source": [
    "def epoch_time(start_time, end_time):\n",
    "    elapsed_time = end_time - start_time\n",
    "    elapsed_mins = int(elapsed_time / 60)\n",
    "    elapsed_secs = int(elapsed_time - (elapsed_mins * 60))\n",
    "    return elapsed_mins, elapsed_secs"
   ]
  },
  {
   "cell_type": "markdown",
   "metadata": {
    "id": "TSYdBkOrXU_y"
   },
   "source": [
    "Finally, we can train our model!\n",
    "\n",
    "This model takes a considerable amount of time per epoch compared to the last model as the number of parameters is significantly higher. However, we beat the performance of our last model after only 2 epochs which takes around 2 minutes."
   ]
  },
  {
   "cell_type": "code",
   "execution_count": 28,
   "metadata": {
    "colab": {
     "base_uri": "https://localhost:8080/"
    },
    "id": "7F53iNXOXU_y",
    "outputId": "388280c3-2f14-413b-9b6e-047cf051f62d"
   },
   "outputs": [
    {
     "name": "stdout",
     "output_type": "stream",
     "text": [
      "Epoch: 01 | Epoch Time: 0m 34s\n",
      "\tTrain Loss: 0.397 | Train Acc: 88.67%\n",
      "\t Val. Loss: 0.398 |  Val. Acc: 87.52%\n",
      "Epoch: 02 | Epoch Time: 0m 33s\n",
      "\tTrain Loss: 0.118 | Train Acc: 96.62%\n",
      "\t Val. Loss: 0.316 |  Val. Acc: 89.82%\n",
      "Epoch: 03 | Epoch Time: 0m 33s\n",
      "\tTrain Loss: 0.076 | Train Acc: 97.80%\n",
      "\t Val. Loss: 0.272 |  Val. Acc: 91.85%\n",
      "Epoch: 04 | Epoch Time: 0m 33s\n",
      "\tTrain Loss: 0.054 | Train Acc: 98.41%\n",
      "\t Val. Loss: 0.280 |  Val. Acc: 91.67%\n",
      "Epoch: 05 | Epoch Time: 0m 33s\n",
      "\tTrain Loss: 0.038 | Train Acc: 98.90%\n",
      "\t Val. Loss: 0.359 |  Val. Acc: 90.99%\n",
      "Epoch: 06 | Epoch Time: 0m 33s\n",
      "\tTrain Loss: 0.029 | Train Acc: 99.15%\n",
      "\t Val. Loss: 0.390 |  Val. Acc: 90.66%\n",
      "Epoch: 07 | Epoch Time: 0m 33s\n",
      "\tTrain Loss: 0.024 | Train Acc: 99.27%\n",
      "\t Val. Loss: 0.364 |  Val. Acc: 91.07%\n",
      "Epoch: 08 | Epoch Time: 0m 33s\n",
      "\tTrain Loss: 0.020 | Train Acc: 99.41%\n",
      "\t Val. Loss: 0.352 |  Val. Acc: 90.78%\n",
      "Epoch: 09 | Epoch Time: 0m 33s\n",
      "\tTrain Loss: 0.018 | Train Acc: 99.46%\n",
      "\t Val. Loss: 0.367 |  Val. Acc: 91.58%\n",
      "Epoch: 10 | Epoch Time: 0m 33s\n",
      "\tTrain Loss: 0.015 | Train Acc: 99.55%\n",
      "\t Val. Loss: 0.359 |  Val. Acc: 91.70%\n"
     ]
    }
   ],
   "source": [
    "N_EPOCHS = 10\n",
    "\n",
    "best_valid_loss = float('inf')\n",
    "\n",
    "for epoch in range(N_EPOCHS):\n",
    "\n",
    "    start_time = time.time()\n",
    "    \n",
    "    train_loss, train_acc = train(model, train_iterator, optimizer, criterion, TAG_PAD_IDX)\n",
    "    valid_loss, valid_acc = evaluate(model, valid_iterator, criterion, TAG_PAD_IDX)\n",
    "    \n",
    "    end_time = time.time()\n",
    "\n",
    "    epoch_mins, epoch_secs = epoch_time(start_time, end_time)\n",
    "    \n",
    "    if valid_loss < best_valid_loss:\n",
    "        best_valid_loss = valid_loss\n",
    "        torch.save(model.state_dict(), 'BERT-POST.pt')\n",
    "    \n",
    "    print(f'Epoch: {epoch+1:02} | Epoch Time: {epoch_mins}m {epoch_secs}s')\n",
    "    print(f'\\tTrain Loss: {train_loss:.3f} | Train Acc: {train_acc*100:.2f}%')\n",
    "    print(f'\\t Val. Loss: {valid_loss:.3f} |  Val. Acc: {valid_acc*100:.2f}%')"
   ]
  },
  {
   "cell_type": "markdown",
   "metadata": {
    "id": "yi8JGgQ_XU_1"
   },
   "source": [
    "We can then load our \"best\" performing model and try it out on the test set. \n",
    "\n",
    "We beat our previous model by 2%!"
   ]
  },
  {
   "cell_type": "code",
   "execution_count": 29,
   "metadata": {
    "colab": {
     "base_uri": "https://localhost:8080/"
    },
    "id": "ea6wyOs_XU_1",
    "outputId": "935315fa-d552-4194-d29a-006317e9ae32"
   },
   "outputs": [
    {
     "name": "stdout",
     "output_type": "stream",
     "text": [
      "Test Loss: 0.291 | Test Acc: 91.22%\n"
     ]
    }
   ],
   "source": [
    "model.load_state_dict(torch.load('BERT-POST.pt'))\n",
    "\n",
    "test_loss, test_acc = evaluate(model, test_iterator, criterion, TAG_PAD_IDX)\n",
    "\n",
    "print(f'Test Loss: {test_loss:.3f} | Test Acc: {test_acc*100:.2f}%')"
   ]
  },
  {
   "cell_type": "markdown",
   "metadata": {
    "id": "IJ6jvG3lXU_3"
   },
   "source": [
    "## Inference\n",
    "\n",
    "We'll now see how to use our model to tag actual sentences. This is similar to the inference function from the previous notebook with the tokenization changed to match the format of our pretrained model.\n",
    "\n",
    "If we pass in a string, this means we need to split it into individual tokens which we do by using the `tokenize` function of the `tokenizer`. Afterwards, numericalize our tokens the same way we did before, using `convert_tokens_to_ids`. Then, we add the `[CLS]` token index to the beginning of the sequence. \n",
    "\n",
    "**Note**: if we forget to add the `[CLS]` token our results will not be good!\n",
    "\n",
    "We then pass the text sequence through our model to get a prediction for each token and then slice off the predictions for the `[CLS]` token as we do not care about it."
   ]
  },
  {
   "cell_type": "code",
   "execution_count": 30,
   "metadata": {
    "id": "WIOmo6FYXU_4"
   },
   "outputs": [],
   "source": [
    "def tag_sentence(model, device, sentence, tokenizer, text_field, tag_field):\n",
    "    \n",
    "    model.eval()\n",
    "    \n",
    "    if isinstance(sentence, str):\n",
    "        tokens = tokenizer.tokenize(sentence)\n",
    "    else:\n",
    "        tokens = sentence\n",
    "    \n",
    "    numericalized_tokens = tokenizer.convert_tokens_to_ids(tokens)\n",
    "    numericalized_tokens = [text_field.init_token] + numericalized_tokens\n",
    "        \n",
    "    unk_idx = text_field.unk_token\n",
    "    \n",
    "    unks = [t for t, n in zip(tokens, numericalized_tokens) if n == unk_idx]\n",
    "    \n",
    "    token_tensor = torch.LongTensor(numericalized_tokens)\n",
    "    \n",
    "    token_tensor = token_tensor.unsqueeze(-1).to(device)\n",
    "         \n",
    "    predictions = model(token_tensor)\n",
    "    \n",
    "    top_predictions = predictions.argmax(-1)\n",
    "    \n",
    "    predicted_tags = [tag_field.vocab.itos[t.item()] for t in top_predictions]\n",
    "    \n",
    "    predicted_tags = predicted_tags[1:]\n",
    "        \n",
    "    assert len(tokens) == len(predicted_tags)\n",
    "    \n",
    "    return tokens, predicted_tags, unks"
   ]
  },
  {
   "cell_type": "markdown",
   "metadata": {
    "id": "DEbdylXQXU_6"
   },
   "source": [
    "We can then run an example sentence through our model and receive the predicted tags."
   ]
  },
  {
   "cell_type": "code",
   "execution_count": 31,
   "metadata": {
    "colab": {
     "base_uri": "https://localhost:8080/"
    },
    "id": "-NAjXntVXU_7",
    "outputId": "3e7778b5-c3ae-4eca-8aec-2c28a592053a"
   },
   "outputs": [
    {
     "name": "stdout",
     "output_type": "stream",
     "text": [
      "[]\n"
     ]
    }
   ],
   "source": [
    "sentence = 'The Queen will deliver a speech about the conflict in North Korea at 1pm tomorrow.'\n",
    "\n",
    "tokens, tags, unks = tag_sentence(model, \n",
    "                                  device, \n",
    "                                  sentence,\n",
    "                                  tokenizer,\n",
    "                                  TEXT, \n",
    "                                  UD_TAGS)\n",
    "\n",
    "print(unks)"
   ]
  },
  {
   "cell_type": "markdown",
   "metadata": {
    "id": "wLgBLolPXU_9"
   },
   "source": [
    "We can then print out the tokens and their corresponding tags.\n",
    "\n",
    "Notice how \"1pm\" in the input sequence has been converted to the two tokens \"1\" and \"##pm\". What's with the two hash symbols in front of the \"pm\"? This is due to the way the tokenizer tokenizes sentences. It uses something called [byte pair encoding](https://en.wikipedia.org/wiki/Byte_pair_encoding) to split words up into more common subsequences of characters."
   ]
  },
  {
   "cell_type": "code",
   "execution_count": 32,
   "metadata": {
    "colab": {
     "base_uri": "https://localhost:8080/"
    },
    "id": "RHfrCjgIXU_-",
    "outputId": "748e3470-ae78-495b-f58e-1a740b479f29"
   },
   "outputs": [
    {
     "name": "stdout",
     "output_type": "stream",
     "text": [
      "Pred. Tag\tToken\n",
      "\n",
      "DET\t\tthe\n",
      "NOUN\t\tqueen\n",
      "AUX\t\twill\n",
      "VERB\t\tdeliver\n",
      "DET\t\ta\n",
      "NOUN\t\tspeech\n",
      "ADP\t\tabout\n",
      "DET\t\tthe\n",
      "NOUN\t\tconflict\n",
      "ADP\t\tin\n",
      "PROPN\t\tnorth\n",
      "PROPN\t\tkorea\n",
      "ADP\t\tat\n",
      "NUM\t\t1\n",
      "NOUN\t\t##pm\n",
      "NOUN\t\ttomorrow\n",
      "PUNCT\t\t.\n"
     ]
    }
   ],
   "source": [
    "print(\"Pred. Tag\\tToken\\n\")\n",
    "\n",
    "for token, tag in zip(tokens, tags):\n",
    "    print(f\"{tag}\\t\\t{token}\")"
   ]
  },
  {
   "cell_type": "markdown",
   "metadata": {
    "id": "RWHICgX2XVAA"
   },
   "source": [
    "We've now fine-tuned a BERT model for part-of-speech tagging! Well done us!"
   ]
  },
  {
   "cell_type": "code",
   "execution_count": 33,
   "metadata": {},
   "outputs": [],
   "source": [
    "import json"
   ]
  },
  {
   "cell_type": "code",
   "execution_count": 43,
   "metadata": {},
   "outputs": [],
   "source": [
    "f = open('StereoSet_filtered.json')\n",
    "j = json.load(f)\n",
    "f2 = open('StereoSet_targets.json')\n",
    "j2 = json.load(f2)"
   ]
  },
  {
   "cell_type": "code",
   "execution_count": 45,
   "metadata": {},
   "outputs": [],
   "source": [
    "write_map = {}\n",
    "for context, target in j.items():\n",
    "    tokens, tags, unks = tag_sentence(model, \n",
    "                                      device, \n",
    "                                      target,\n",
    "                                      tokenizer,\n",
    "                                      TEXT, \n",
    "                                      UD_TAGS)\n",
    "    target = j2[context]\n",
    "    write_map[context] = {\n",
    "        \"target\": target, \n",
    "        \"tokens\": tokens, \n",
    "        \"tags\": tags, \n",
    "        \"unks\": unks\n",
    "    }"
   ]
  },
  {
   "cell_type": "code",
   "execution_count": 46,
   "metadata": {},
   "outputs": [
    {
     "name": "stdout",
     "output_type": "stream",
     "text": [
      "{'target': 'Ethiopia', 'tokens': ['the', 'people', 'are', 'very', 'thin', 'and', 'good', 'at', 'distance', 'running', '.'], 'tags': ['DET', 'NOUN', 'AUX', 'ADV', 'ADJ', 'CCONJ', 'ADJ', 'ADP', 'NOUN', 'NOUN', 'PUNCT'], 'unks': []}\n"
     ]
    }
   ],
   "source": [
    "print(write_map[\"Many people live in Ethiopia.\"])"
   ]
  },
  {
   "cell_type": "code",
   "execution_count": 47,
   "metadata": {},
   "outputs": [],
   "source": [
    "with open(\"stereoset_edges_unprocessed.json\", 'w') as outfile:\n",
    "    json.dump(write_map, outfile)"
   ]
  },
  {
   "cell_type": "code",
   "execution_count": null,
   "metadata": {},
   "outputs": [],
   "source": []
  }
 ],
 "metadata": {
  "accelerator": "GPU",
  "colab": {
   "machine_shape": "hm",
   "name": "2 - Fine-tuning Pretrained Transformers for PoS Tagging.ipynb",
   "provenance": []
  },
  "kernelspec": {
   "display_name": "Python 3 (ipykernel)",
   "language": "python",
   "name": "python3"
  },
  "language_info": {
   "codemirror_mode": {
    "name": "ipython",
    "version": 3
   },
   "file_extension": ".py",
   "mimetype": "text/x-python",
   "name": "python",
   "nbconvert_exporter": "python",
   "pygments_lexer": "ipython3",
   "version": "3.8.13"
  }
 },
 "nbformat": 4,
 "nbformat_minor": 4
}
